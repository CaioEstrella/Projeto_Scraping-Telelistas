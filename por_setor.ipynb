{
 "cells": [
  {
   "cell_type": "code",
   "execution_count": null,
   "metadata": {},
   "outputs": [],
   "source": [
    "from urllib.request import urlopen, Request\n",
    "import pandas as pd\n",
    "from bs4 import BeautifulSoup\n",
    "import requests\n",
    "from pathlib import Path\n",
    "\n",
    "url = \"https://www.telelistas.net/rj/rio+de+janeiro\"\n",
    "\n",
    "\n",
    "#Informações para fingir ser um navegador\n",
    "header = {\n",
    "  \"User-Agent\": \"Mozilla/5.0 (X11; Linux x86_64) AppleWebKit/537.36 (KHTML, like Gecko) Chrome/50.0.2661.75 Safari/537.36\",\n",
    "  \"X-Requested-With\": \"XMLHttpRequest\"\n",
    "}\n",
    "#juntamos tudo com a requests\n",
    "\n",
    "html = Request(url, headers=header)\n",
    "html = urlopen(html).read()\n",
    "bs = BeautifulSoup(html, 'html.parser')\n",
    "\n",
    "### Selenium\n",
    "\n",
    "from selenium import webdriver\n",
    "import time\n",
    "from selenium.webdriver.support import expected_conditions as EC\n",
    "from selenium.webdriver.common.by import By\n",
    "from selenium.webdriver.support.ui import WebDriverWait\n",
    "from selenium.common.exceptions import StaleElementReferenceException\n",
    "from selenium.common.exceptions import TimeoutException\n",
    "from selenium.webdriver.common.keys import Keys\n",
    "\n",
    "from selenium.webdriver.chrome.options import Options  \n",
    "chrome_options = Options()  \n",
    "chrome_options.add_argument(\"--headless\") \n",
    "\n",
    "p = str(Path(os.getcwd()))\n",
    "driver = webdriver.Chrome(p +'\\chromedriver.exe', options=chrome_options)\n",
    "#driver.get(url)\n",
    "wait = WebDriverWait(driver, 30)"
   ]
  },
  {
   "cell_type": "code",
   "execution_count": null,
   "metadata": {},
   "outputs": [],
   "source": [
    "#count=0\n",
    "contagem = []\n",
    "setores=[]\n",
    "from selenium.common.exceptions import NoSuchElementException\n",
    "\n",
    "for a in bs.find_all('a', href=True)[1:]:\n",
    "    try:\n",
    "        #count+=1\n",
    "        \n",
    "        html = Request('https://www.telelistas.net'+a['href'], headers=header)\n",
    "        html = urlopen(html).read()\n",
    "        \n",
    "        bs = BeautifulSoup(html, 'html.parser')\n",
    "        \n",
    "        driver.get('https://www.telelistas.net'+a['href'])\n",
    "        time.sleep(0.5)\n",
    "        seto= driver.find_element_by_class_name(\"flex.items-center.q-breadcrumbs--last\")\n",
    "        con = driver.find_element_by_xpath(\"//div[contains(text(),'Pág')]\")\n",
    "        \n",
    "        setores.append(seto.text)\n",
    "        contagem.append(con.text)  \n",
    "        print(seto.text)\n",
    "        print(con.text)\n",
    "        print(\"##\")\n",
    "\n",
    "         \n",
    "    except NoSuchElementException:  #spelling error making this code not work as expected\n",
    "        #count+=1\n",
    "        seto = driver.find_element_by_class_name(\"flex.items-center.q-breadcrumbs--last\")\n",
    "        setores.append(seto.text)\n",
    "        print(seto.text)\n",
    "        print(\"1\")\n",
    "        print(\"##\")\n",
    "        contagem.append(\"1\") \n",
    "        pass\n",
    "    except:\n",
    "        seto= driver.find_element_by_class_name(\"flex.items-center.q-breadcrumbs--last\")\n",
    "        setores.append(seto.text)\n",
    "        print(seto.text)\n",
    "        print(\"1\")\n",
    "        print(\"##\")\n",
    "        contagem.append(\"0\") \n",
    "        pass\n",
    "        "
   ]
  },
  {
   "cell_type": "code",
   "execution_count": null,
   "metadata": {},
   "outputs": [],
   "source": [
    "for count, i in enumerate(contagem):\n",
    "    if len(i)>1:\n",
    "        contagem[count] = i.split(\"/\")[1]\n",
    "print(len(contagem))"
   ]
  },
  {
   "cell_type": "code",
   "execution_count": null,
   "metadata": {},
   "outputs": [],
   "source": [
    "print(len(contagem))\n",
    "print(len(setores))"
   ]
  },
  {
   "cell_type": "code",
   "execution_count": null,
   "metadata": {},
   "outputs": [],
   "source": [
    "setores2 = [x.split(' em Rio de Janeiro-RJ')[0] for x in setores]\n",
    "setores2"
   ]
  },
  {
   "cell_type": "code",
   "execution_count": null,
   "metadata": {},
   "outputs": [],
   "source": [
    "contagem2 = [int(x) for x in contagem]\n",
    "contagem2"
   ]
  },
  {
   "cell_type": "code",
   "execution_count": null,
   "metadata": {},
   "outputs": [],
   "source": [
    "linhas = [25*int(x) for x in contagem]"
   ]
  },
  {
   "cell_type": "code",
   "execution_count": null,
   "metadata": {},
   "outputs": [],
   "source": [
    "import pandas as pd\n",
    "df = pd.DataFrame({'setor': setores2, 'paginas':contagem2 , 'linhas': linhas})"
   ]
  },
  {
   "cell_type": "code",
   "execution_count": null,
   "metadata": {},
   "outputs": [],
   "source": [
    "df.to_excel(p+'\\setores.xlsx')"
   ]
  },
  {
   "cell_type": "code",
   "execution_count": null,
   "metadata": {},
   "outputs": [],
   "source": []
  }
 ],
 "metadata": {
  "kernelspec": {
   "display_name": "Python 3",
   "language": "python",
   "name": "python3"
  },
  "language_info": {
   "codemirror_mode": {
    "name": "ipython",
    "version": 3
   },
   "file_extension": ".py",
   "mimetype": "text/x-python",
   "name": "python",
   "nbconvert_exporter": "python",
   "pygments_lexer": "ipython3",
   "version": "3.7.7"
  }
 },
 "nbformat": 4,
 "nbformat_minor": 4
}
